{
 "cells": [
  {
   "cell_type": "markdown",
   "metadata": {},
   "source": [
    "# Bit Flip error"
   ]
  },
  {
   "cell_type": "markdown",
   "metadata": {},
   "source": [
    "A bit flip error is specific type of error where the qubits computational state flips from 1 to 0 or vice versa.\n",
    "\n",
    "However a bit flip can be corrected using the bit flip code. This is a 3 qubit circuit that makes use of 2 ancillary qubits to correct 1 qubit. "
   ]
  },
  {
   "cell_type": "markdown",
   "metadata": {},
   "source": [
    "Process: Main process is that , suppose we have state now we need to correct bit flip errors in that , then what we will do is we will copy its code to ancillary qubits by cnot gate and then we simulate a bit flip and then will correct it by again using the cnot to copy data and then toffoli gate"
   ]
  },
  {
   "cell_type": "markdown",
   "metadata": {},
   "source": [
    "For example let’s say the main qubits state was 0. CNOT gates will be applied to the ancillary qubits which will leave them unchanged since the main qubits state was 0. \n",
    "\n",
    "Next a bit flip occurs which flips the main qubits state to 1. After the bit flip CNOT gates are applied to the ancillary qubits which will flip their states to 1 since the main qubits state is 1. \n",
    "\n",
    "Then a toffoli gate is applied to the main qubit which will flip the state of the qubit since the ancillary qubits states are 1. This flips the state of the main qubit to 0 thus correcting the error. "
   ]
  },
  {
   "cell_type": "code",
   "execution_count": 6,
   "metadata": {},
   "outputs": [
    {
     "data": {
      "image/png": "[encoded data removed]",
      "text/plain": [
       "<Figure size 642.936x264.88 with 1 Axes>"
      ]
     },
     "execution_count": 6,
     "metadata": {},
     "output_type": "execute_result"
    }
   ],
   "source": [
    "from qiskit import *\n",
    "qr1 = QuantumRegister(1,name = 'state') #main state\n",
    "qr2 = QuantumRegister(2,name = \"anci\") # ancillary qubits\n",
    "cr = ClassicalRegister(1)\n",
    "qc = QuantumCircuit(qr1,qr2,cr)\n",
    "qc.cx(0,1)\n",
    "qc.cx(0,2)\n",
    "qc.x(0) #flipping the first qubit\n",
    "qc.cx(0,1)\n",
    "qc.cx(0,2)\n",
    "qc.ccx(2,1,0)\n",
    "qc.measure(0,0)\n",
    "qc.draw('mpl')"
   ]
  },
  {
   "cell_type": "code",
   "execution_count": 10,
   "metadata": {},
   "outputs": [
    {
     "name": "stdout",
     "output_type": "stream",
     "text": [
      "{'0': 1024}\n"
     ]
    }
   ],
   "source": [
    "# implementation\n",
    "from qiskit.visualization import plot_histogram\n",
    "backend = Aer.get_backend('qasm_simulator')\n",
    "result = execute(qc,backend).result()\n",
    "counts = result.get_counts(qc)\n",
    "print(counts)"
   ]
  },
  {
   "cell_type": "code",
   "execution_count": 11,
   "metadata": {},
   "outputs": [
    {
     "data": {
      "image/png": "[encoded data removed]",
      "text/plain": [
       "<Figure size 504x360 with 1 Axes>"
      ]
     },
     "execution_count": 11,
     "metadata": {},
     "output_type": "execute_result"
    }
   ],
   "source": [
    " plot_histogram(counts)"
   ]
  },
  {
   "cell_type": "code",
   "execution_count": null,
   "metadata": {},
   "outputs": [
    {
     "name": "stderr",
     "output_type": "stream",
     "text": [
      "ibmqfactory.load_account:WARNING:2020-08-11 11:56:37,290: Credentials are already in use. The existing account in the session will be replaced.\n"
     ]
    },
    {
     "name": "stdout",
     "output_type": "stream",
     "text": [
      "ibmq_burlington\n",
      "===============\n",
      "Configuration\n",
      "-------------\n",
      "    n_qubits: 5\n",
      "    operational: True\n",
      "    status_msg: active\n",
      "    pending_jobs: 1\n",
      "    backend_version: 1.1.4\n",
      "    basis_gates: ['id', 'u1', 'u2', 'u3', 'cx']\n",
      "    local: False\n",
      "    simulator: False\n",
      "    allow_object_storage: True\n",
      "    credits_required: True\n",
      "    online_date: 2019-09-13 04:00:00+00:00\n",
      "    open_pulse: False\n",
      "    coupling_map: [[0, 1], [1, 0], [1, 2], [1, 3], [2, 1], [3, 1], [3, 4], [4, 3]]\n",
      "    meas_map: [[0, 1, 2, 3, 4]]\n",
      "    conditional: False\n",
      "    memory: True\n",
      "    max_experiments: 75\n",
      "    description: 5 qubit device Burlington\n",
      "    backend_name: ibmq_burlington\n",
      "    sample_name: Giraffe\n",
      "    quantum_volume: 8\n",
      "    n_registers: 1\n",
      "    url: None\n",
      "    max_shots: 8192\n",
      "    allow_q_object: True\n",
      "\n",
      "Qubits [Name / Freq / T1 / T2 / U1 err / U2 err / U3 err / Readout err]\n",
      "-----------------------------------------------------------------------\n",
      "    Q0 / 4.64156 GHz / 82.97706 µs / 52.71672 µs / 0 / 0.00062 / 0.00124 / 0.0745\n",
      "    Q1 / 4.72005 GHz / 90.84651 µs / 83.80735 µs / 0 / 0.00058 / 0.00116 / 0.06\n",
      "    Q2 / 4.76198 GHz / 71.15031 µs / 99.02645 µs / 0 / 0.00046 / 0.00093 / 0.0281\n",
      "    Q3 / 4.68697 GHz / 76.38454 µs / 78.68964 µs / 0 / 0.00042 / 0.00083 / 0.0293\n",
      "    Q4 / 4.92432 GHz / 85.06781 µs / 23.51716 µs / 0 / 0.00054 / 0.00108 / 0.0364\n",
      "\n",
      "Multi-Qubit Gates [Name / Type / Gate Error]\n",
      "--------------------------------------------\n",
      "    cx0_1 / cx / 0.00958\n",
      "    cx1_0 / cx / 0.00958\n",
      "    cx1_2 / cx / 0.01764\n",
      "    cx1_3 / cx / 0.01847\n",
      "    cx2_1 / cx / 0.01764\n",
      "    cx3_1 / cx / 0.01847\n",
      "    cx3_4 / cx / 0.01243\n",
      "    cx4_3 / cx / 0.01243\n",
      "\n",
      "Press any key to close\n"
     ]
    }
   ],
   "source": []
  },
  {
   "cell_type": "code",
   "execution_count": null,
   "metadata": {},
   "outputs": [],
   "source": []
  }
 ],
 "metadata": {
  "kernelspec": {
   "display_name": "Python 3",
   "language": "python",
   "name": "python3"
  },
  "language_info": {
   "codemirror_mode": {
    "name": "ipython",
    "version": 3
   },
   "file_extension": ".py",
   "mimetype": "text/x-python",
   "name": "python",
   "nbconvert_exporter": "python",
   "pygments_lexer": "ipython3",
   "version": "3.7.6"
  }
 },
 "nbformat": 4,
 "nbformat_minor": 4
}
